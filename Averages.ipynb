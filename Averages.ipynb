{
 "cells": [
  {
   "cell_type": "code",
   "execution_count": 1,
   "metadata": {},
   "outputs": [],
   "source": [
    "import math\n",
    "\n",
    "millnames = ['',' tys',' mln',' mld',' tln']\n",
    "def humanReadable_large(n):\n",
    "    n = float(n)\n",
    "    millidx = max(0,min(len(millnames)-1,\n",
    "                        int(math.floor(0 if n == 0 else math.log10(abs(n))/3))))\n",
    "    return '{:.0f}{}'.format(n / 10**(3 * millidx), millnames[millidx])"
   ]
  },
  {
   "cell_type": "code",
   "execution_count": 2,
   "metadata": {},
   "outputs": [
    {
     "name": "stdout",
     "output_type": "stream",
     "text": [
      "Czas losowania danych: 10.4135s, ilość danych: 10 mln\n"
     ]
    }
   ],
   "source": [
    "from random import randint\n",
    "import time\n",
    "\n",
    "dataLength = 10000000;\n",
    "\n",
    "start = time.time();\n",
    "\n",
    "x = [randint(1, 5) for p in range(dataLength)];\n",
    "\n",
    "end = time.time();\n",
    "\n",
    "print('Czas losowania danych: ' + str(round(end-start, 4)) + 's, ilość danych: ' + humanReadable_large(dataLength));"
   ]
  },
  {
   "cell_type": "markdown",
   "metadata": {},
   "source": [
    "### Metoda 1: Klasyczne `sum() / len()`:"
   ]
  },
  {
   "cell_type": "code",
   "execution_count": 3,
   "metadata": {},
   "outputs": [
    {
     "name": "stdout",
     "output_type": "stream",
     "text": [
      "Czas: 0.0768s, wartość: 3.0003036\n"
     ]
    }
   ],
   "source": [
    "start = time.time();\n",
    "\n",
    "avg = sum(x) / len(x);\n",
    "\n",
    "end = time.time();\n",
    "\n",
    "print('Czas: ' + str(round(end-start, 4)) + 's, wartość: ' + str(avg));"
   ]
  },
  {
   "cell_type": "markdown",
   "metadata": {},
   "source": [
    "### Metoda 2: Klasyczna średnia:"
   ]
  },
  {
   "cell_type": "code",
   "execution_count": 4,
   "metadata": {},
   "outputs": [
    {
     "name": "stdout",
     "output_type": "stream",
     "text": [
      "Czas: 0.7771s, wartość: 3.0003036\n"
     ]
    }
   ],
   "source": [
    "start = time.time();\n",
    "\n",
    "amount = 0;\n",
    "for item in x:\n",
    "    amount += item;\n",
    "avg = amount / dataLength;\n",
    "\n",
    "end = time.time();\n",
    "\n",
    "print('Czas: ' + str(round(end-start, 4)) + 's, wartość: ' + str(avg));"
   ]
  },
  {
   "cell_type": "markdown",
   "metadata": {},
   "source": [
    "### Metoda 3: MapReduce (bez podziału na części + bez wątków):"
   ]
  },
  {
   "cell_type": "code",
   "execution_count": 5,
   "metadata": {},
   "outputs": [
    {
     "name": "stdout",
     "output_type": "stream",
     "text": [
      "Czas: 0.7934s, wartość: 3.0003036\n"
     ]
    }
   ],
   "source": [
    "arr = [];\n",
    "\n",
    "start = time.time();\n",
    "\n",
    "for i in set(x):\n",
    "    arr.append([i, x.count(i)]);\n",
    "\n",
    "full_sum = 0;\n",
    "for (i, j) in arr:\n",
    "    full_sum += (i * j);\n",
    "\n",
    "avg = full_sum / dataLength;\n",
    "\n",
    "end = time.time();\n",
    "\n",
    "print('Czas: ' + str(round(end-start, 4)) + 's, wartość: ' + str(avg));"
   ]
  },
  {
   "cell_type": "markdown",
   "metadata": {},
   "source": [
    "### Metoda 4: MapReduce (podział na części + wątki):"
   ]
  },
  {
   "cell_type": "code",
   "execution_count": 6,
   "metadata": {},
   "outputs": [],
   "source": [
    "def chunkenizer(lst, n):\n",
    "    for i in range(0, len(lst), n):\n",
    "        yield lst[i:i + n]"
   ]
  },
  {
   "cell_type": "code",
   "execution_count": 7,
   "metadata": {},
   "outputs": [],
   "source": [
    "def map_reduce(lst, results):\n",
    "    for i in set(lst):   # Mapuj\n",
    "        if i in results: # Redukuj\n",
    "            results[i] = results[i] + lst.count(i);\n",
    "        else:\n",
    "            results[i] = lst.count(i);"
   ]
  },
  {
   "cell_type": "markdown",
   "metadata": {},
   "source": [
    "Zawsze: `[value, counter]`"
   ]
  },
  {
   "cell_type": "code",
   "execution_count": 12,
   "metadata": {},
   "outputs": [
    {
     "name": "stdout",
     "output_type": "stream",
     "text": [
      "Czas: 0.8667s, wartość: 3.0003036, ilość kawałków (ilość wątków): 1, rozmiar kawałka: 10000000\n",
      "Czas: 0.8901s, wartość: 3.0003036, ilość kawałków (ilość wątków): 2, rozmiar kawałka: 5000000\n",
      "Czas: 0.8659s, wartość: 3.0003036, ilość kawałków (ilość wątków): 4, rozmiar kawałka: 2500000\n",
      "Czas: 0.9137s, wartość: 3.0003036, ilość kawałków (ilość wątków): 5, rozmiar kawałka: 2000000\n",
      "Czas: 0.9863s, wartość: 3.0003036, ilość kawałków (ilość wątków): 8, rozmiar kawałka: 1250000\n",
      "Czas: 0.9314s, wartość: 3.0003036, ilość kawałków (ilość wątków): 10, rozmiar kawałka: 1000000\n",
      "Czas: 0.9653s, wartość: 3.0003036, ilość kawałków (ilość wątków): 16, rozmiar kawałka: 625000\n",
      "Czas: 0.9387s, wartość: 3.0003036, ilość kawałków (ilość wątków): 20, rozmiar kawałka: 500000\n",
      "Czas: 1.0208s, wartość: 3.0003036, ilość kawałków (ilość wątków): 25, rozmiar kawałka: 400000\n",
      "Czas: 0.9393s, wartość: 3.0003036, ilość kawałków (ilość wątków): 32, rozmiar kawałka: 312500\n",
      "Czas: 0.9306s, wartość: 3.0003036, ilość kawałków (ilość wątków): 40, rozmiar kawałka: 250000\n",
      "Czas: 0.9311s, wartość: 3.0003036, ilość kawałków (ilość wątków): 50, rozmiar kawałka: 200000\n",
      "Czas: 0.9436s, wartość: 3.0003036, ilość kawałków (ilość wątków): 64, rozmiar kawałka: 156250\n",
      "Czas: 0.9733s, wartość: 3.0003036, ilość kawałków (ilość wątków): 80, rozmiar kawałka: 125000\n",
      "Czas: 0.9748s, wartość: 3.0003036, ilość kawałków (ilość wątków): 100, rozmiar kawałka: 100000\n",
      "Czas: 0.9856s, wartość: 3.0003036, ilość kawałków (ilość wątków): 125, rozmiar kawałka: 80000\n",
      "Czas: 1.0402s, wartość: 3.0003036, ilość kawałków (ilość wątków): 128, rozmiar kawałka: 78125\n",
      "Czas: 1.0336s, wartość: 3.0003036, ilość kawałków (ilość wątków): 160, rozmiar kawałka: 62500\n",
      "Czas: 1.0409s, wartość: 3.0003036, ilość kawałków (ilość wątków): 200, rozmiar kawałka: 50000\n",
      "Czas: 1.0328s, wartość: 3.0003036, ilość kawałków (ilość wątków): 250, rozmiar kawałka: 40000\n",
      "Czas: 1.0585s, wartość: 3.0003036, ilość kawałków (ilość wątków): 320, rozmiar kawałka: 31250\n",
      "Czas: 1.1418s, wartość: 3.0003036, ilość kawałków (ilość wątków): 400, rozmiar kawałka: 25000\n",
      "Czas: 1.1006s, wartość: 3.0003036, ilość kawałków (ilość wątków): 500, rozmiar kawałka: 20000\n",
      "\n",
      "Najlepszy czas: 0.8659, dla ilości kawałków: 4\n"
     ]
    },
    {
     "data": {
      "image/png": "[encoded data removed]",
      "text/plain": [
       "<Figure size 432x288 with 1 Axes>"
      ]
     },
     "metadata": {
      "needs_background": "light"
     },
     "output_type": "display_data"
    }
   ],
   "source": [
    "import threading\n",
    "import multiprocessing\n",
    "import numpy as np\n",
    "import sys\n",
    "import matplotlib.pyplot as plt\n",
    "\n",
    "chunk_size = dataLength;\n",
    "\n",
    "best_time = sys.maxsize;\n",
    "best_chunk_size = sys.maxsize;\n",
    "\n",
    "to_plot_time = [];\n",
    "to_plot_chunks = [];\n",
    "\n",
    "ctr = 0;\n",
    "best_ctr = sys.maxsize;\n",
    "while True:\n",
    "    if (dataLength % chunk_size) == 0:\n",
    "\n",
    "        chunks = int(dataLength / chunk_size);\n",
    "\n",
    "        start = time.time();\n",
    "\n",
    "        splitted = list(chunkenizer(x, chunk_size));\n",
    "        #splitted = np.array_split(np.array(x), chunks); # Wolne\n",
    "\n",
    "        results = {};\n",
    "        for i in splitted:\n",
    "            tmp = i;\n",
    "            thread = threading.Thread(target=map_reduce, args=(tmp, results,));\n",
    "            thread.start();\n",
    "            thread.join();\n",
    "\n",
    "        full_sum = 0;\n",
    "        for key, value in results.items():\n",
    "            full_sum += int(key) * value;\n",
    "\n",
    "        avg = full_sum / dataLength;\n",
    "\n",
    "        end = time.time();\n",
    "        \n",
    "        curr_time = end-start;\n",
    "        \n",
    "        if curr_time < best_time:\n",
    "            best_time = curr_time;\n",
    "            best_chunk_size = chunks;\n",
    "            best_ctr = ctr;\n",
    "\n",
    "        print('Czas: ' + str(round(curr_time, 4)) + 's, wartość: ' + str(avg) + ', ilość kawałków (ilość wątków): ' + str(chunks) + ', rozmiar kawałka: ' + str(chunk_size));\n",
    "        \n",
    "        to_plot_time.append(curr_time);\n",
    "        to_plot_chunks.append(chunks);\n",
    "        ctr += 1;\n",
    "    \n",
    "    chunk_size -= 1;\n",
    "    \n",
    "    if chunk_size == 16000:\n",
    "        break;\n",
    "\n",
    "print('\\nNajlepszy czas: ' + str(round(best_time, 4)) + ', dla ilości kawałków: ' + str(best_chunk_size));\n",
    "\n",
    "frame1 = plt.gca();\n",
    "frame1.axes.get_xaxis().set_visible(False);\n",
    "\n",
    "plt.plot(np.linspace(0, ctr, ctr), to_plot_time);\n",
    "plt.scatter(best_ctr, best_time);\n",
    "plt.annotate(best_chunk_size, (best_ctr, best_time), xytext=(ctr, best_time), arrowprops=dict(arrowstyle=\"->\", connectionstyle=\"arc3\"));"
   ]
  },
  {
   "cell_type": "markdown",
   "metadata": {},
   "source": [
    "### Metoda 5: Wykorzystanie `statistics.mean()`:"
   ]
  },
  {
   "cell_type": "code",
   "execution_count": 8,
   "metadata": {},
   "outputs": [
    {
     "name": "stdout",
     "output_type": "stream",
     "text": [
      "Czas: 5.3558s, wartość: 3.0003036\n"
     ]
    }
   ],
   "source": [
    "import statistics\n",
    "\n",
    "start = time.time();\n",
    "\n",
    "avg = statistics.mean(x);\n",
    "\n",
    "end = time.time();\n",
    "\n",
    "print('Czas: ' + str(round(end-start, 4)) + 's, wartość: ' + str(avg));"
   ]
  }
 ],
 "metadata": {
  "kernelspec": {
   "display_name": "Python 3",
   "language": "python",
   "name": "python3"
  },
  "language_info": {
   "codemirror_mode": {
    "name": "ipython",
    "version": 3
   },
   "file_extension": ".py",
   "mimetype": "text/x-python",
   "name": "python",
   "nbconvert_exporter": "python",
   "pygments_lexer": "ipython3",
   "version": "3.7.6"
  }
 },
 "nbformat": 4,
 "nbformat_minor": 4
}
