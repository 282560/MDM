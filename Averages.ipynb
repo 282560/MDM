{
 "cells": [
  {
   "cell_type": "code",
   "execution_count": 1,
   "metadata": {},
   "outputs": [],
   "source": [
    "import math\n",
    "\n",
    "millnames = ['',' tys',' mln',' mld',' tln']\n",
    "def humanReadable_large(n):\n",
    "    n = float(n)\n",
    "    millidx = max(0,min(len(millnames)-1,\n",
    "                        int(math.floor(0 if n == 0 else math.log10(abs(n))/3))))\n",
    "    return '{:.0f}{}'.format(n / 10**(3 * millidx), millnames[millidx])"
   ]
  },
  {
   "cell_type": "code",
   "execution_count": 2,
   "metadata": {},
   "outputs": [
    {
     "name": "stdout",
     "output_type": "stream",
     "text": [
      "Czas losowania danych: 10.6942s, ilość danych: 10 mln\n"
     ]
    }
   ],
   "source": [
    "from random import randint\n",
    "import time\n",
    "\n",
    "dataLength = 10000000;\n",
    "\n",
    "start = time.time();\n",
    "\n",
    "x = [randint(1, 5) for p in range(dataLength)];\n",
    "\n",
    "end = time.time();\n",
    "\n",
    "print('Czas losowania danych: ' + str(round(end-start, 4)) + 's, ilość danych: ' + humanReadable_large(dataLength));"
   ]
  },
  {
   "cell_type": "markdown",
   "metadata": {},
   "source": [
    "### Metoda 1: Klasyczne `sum() / len()`:"
   ]
  },
  {
   "cell_type": "code",
   "execution_count": 3,
   "metadata": {},
   "outputs": [
    {
     "name": "stdout",
     "output_type": "stream",
     "text": [
      "Czas: 0.0768s, wartość: 3.0006273\n"
     ]
    }
   ],
   "source": [
    "start = time.time();\n",
    "\n",
    "avg = sum(x) / len(x);\n",
    "\n",
    "end = time.time();\n",
    "\n",
    "print('Czas: ' + str(round(end-start, 4)) + 's, wartość: ' + str(avg));"
   ]
  },
  {
   "cell_type": "markdown",
   "metadata": {},
   "source": [
    "### Metoda 2: Klasyczna średnia:"
   ]
  },
  {
   "cell_type": "code",
   "execution_count": 4,
   "metadata": {},
   "outputs": [
    {
     "name": "stdout",
     "output_type": "stream",
     "text": [
      "Czas: 0.7706s, wartość: 3.0006273\n"
     ]
    }
   ],
   "source": [
    "start = time.time();\n",
    "\n",
    "amount = 0;\n",
    "for item in x:\n",
    "    amount += item;\n",
    "avg = amount / len(x);\n",
    "\n",
    "end = time.time();\n",
    "\n",
    "print('Czas: ' + str(round(end-start, 4)) + 's, wartość: ' + str(avg));"
   ]
  },
  {
   "cell_type": "markdown",
   "metadata": {},
   "source": [
    "### Metoda 3: MapReduce (bez podziału na części + bez wątków):"
   ]
  },
  {
   "cell_type": "code",
   "execution_count": 5,
   "metadata": {},
   "outputs": [
    {
     "name": "stdout",
     "output_type": "stream",
     "text": [
      "Czas: 0.7861s, wartość: 3.0006273\n"
     ]
    }
   ],
   "source": [
    "arr = [];\n",
    "\n",
    "start = time.time();\n",
    "\n",
    "for i in set(x):\n",
    "    arr.append([i, x.count(i)]);\n",
    "\n",
    "full_sum = 0;\n",
    "for (i, j) in arr:\n",
    "    full_sum += (i * j);\n",
    "\n",
    "avg = full_sum / len(x);\n",
    "\n",
    "end = time.time();\n",
    "\n",
    "print('Czas: ' + str(round(end-start, 4)) + 's, wartość: ' + str(avg));"
   ]
  },
  {
   "cell_type": "markdown",
   "metadata": {},
   "source": [
    "### Metoda 4: MapReduce (podział na części + wątki):"
   ]
  },
  {
   "cell_type": "code",
   "execution_count": 6,
   "metadata": {},
   "outputs": [],
   "source": [
    "def chunkenizer(lst, n):\n",
    "    for i in range(0, len(lst), n):\n",
    "        yield lst[i:i + n]"
   ]
  },
  {
   "cell_type": "code",
   "execution_count": 7,
   "metadata": {},
   "outputs": [],
   "source": [
    "def map_reduce(lst, results):\n",
    "    for i in set(lst):   # Mapuj\n",
    "        if i in results: # Redukuj\n",
    "            results[i] = results[i] + lst.count(i);\n",
    "        else:\n",
    "            results[i] = lst.count(i);"
   ]
  },
  {
   "cell_type": "markdown",
   "metadata": {},
   "source": [
    "Zawsze: `[value, counter]`"
   ]
  },
  {
   "cell_type": "code",
   "execution_count": 8,
   "metadata": {},
   "outputs": [
    {
     "name": "stdout",
     "output_type": "stream",
     "text": [
      "Czas: 0.8197s, wartość: 3.0006273, ilość kawalków: 1 mln\n"
     ]
    }
   ],
   "source": [
    "import threading\n",
    "import numpy as np\n",
    "\n",
    "chunks = 1000000;\n",
    "\n",
    "start = time.time();\n",
    "\n",
    "splitted = list(chunkenizer(x, chunks));\n",
    "\n",
    "results = {};\n",
    "threads = [];\n",
    "for i in splitted:\n",
    "    thread = threading.Thread(target=map_reduce, args=(i, results,));\n",
    "    threads.append(thread);\n",
    "    thread.start();\n",
    "    thread.join();\n",
    "\n",
    "full_sum = 0;\n",
    "for key, value in results.items():\n",
    "    full_sum += int(key) * value;\n",
    "\n",
    "avg = full_sum / len(x);\n",
    "\n",
    "end = time.time();\n",
    "\n",
    "print('Czas: ' + str(round(end-start, 4)) + 's, wartość: ' + str(avg) + ', ilość kawalków: ' + humanReadable_large(chunks));"
   ]
  },
  {
   "cell_type": "markdown",
   "metadata": {},
   "source": [
    "### Metoda 5: Wykorzystanie `statistics.mean()`:"
   ]
  },
  {
   "cell_type": "code",
   "execution_count": 9,
   "metadata": {},
   "outputs": [
    {
     "name": "stdout",
     "output_type": "stream",
     "text": [
      "Czas: 5.4856s, wartość: 3.0006273\n"
     ]
    }
   ],
   "source": [
    "import statistics\n",
    "\n",
    "start = time.time();\n",
    "\n",
    "avg = statistics.mean(x);\n",
    "\n",
    "end = time.time();\n",
    "\n",
    "print('Czas: ' + str(round(end-start, 4)) + 's, wartość: ' + str(avg));"
   ]
  }
 ],
 "metadata": {
  "kernelspec": {
   "display_name": "Python 3",
   "language": "python",
   "name": "python3"
  },
  "language_info": {
   "codemirror_mode": {
    "name": "ipython",
    "version": 3
   },
   "file_extension": ".py",
   "mimetype": "text/x-python",
   "name": "python",
   "nbconvert_exporter": "python",
   "pygments_lexer": "ipython3",
   "version": "3.7.6"
  }
 },
 "nbformat": 4,
 "nbformat_minor": 4
}
