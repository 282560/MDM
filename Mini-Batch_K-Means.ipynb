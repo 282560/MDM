{
 "cells": [
  {
   "cell_type": "markdown",
   "metadata": {},
   "source": [
    "# Mini-Batch K-Means"
   ]
  },
  {
   "cell_type": "markdown",
   "metadata": {},
   "source": [
    "1. Wygeneruj losową próbkę danych przy użyciu funkcji `sklearn.datasets.make_blobs`, w dalszych testach użyj tej funkcji kilkukrotnie, aby wygenerować kilka różnych przykładów."
   ]
  },
  {
   "cell_type": "markdown",
   "metadata": {},
   "source": [
    "2. Pogrupuj te dane przy użyciu klasycznego algorytmu K-Means z [tej strony](https://github.com/IS-UMK/datamining_tutorial/blob/master/kmeans.ipynb)."
   ]
  },
  {
   "cell_type": "markdown",
   "metadata": {},
   "source": [
    "3. Zaimplementuj naiwną funkcje Mini-Batch K-Means. Naiwna oznacza odpalenie zwykłego K-Means na podzbiorach i sumowanie najbliższych."
   ]
  },
  {
   "cell_type": "markdown",
   "metadata": {},
   "source": [
    "4. Zaimplementuj funkcje Mini-Batch K-Means z _listingu_ poniżej, pochodzi z [tej pracy](https://dl.acm.org/doi/pdf/10.1145/1772690.1772862). Funkcja `f` opisana jest właśnie w tej pracy."
   ]
  },
  {
   "cell_type": "markdown",
   "metadata": {},
   "source": [
    "5. Porównaj czasy wykonania  wszystkich trzech metod, jak szybko zbiega współczynnik _inertia_ ? _Inertia_ lub wewnątrz grupowa suma kwadratów, jest to kryterium, które optymalizuje K-Means."
   ]
  },
  {
   "cell_type": "markdown",
   "metadata": {},
   "source": [
    "![Wzór](images/Wzór.png)"
   ]
  },
  {
   "cell_type": "markdown",
   "metadata": {},
   "source": [
    "![Algorytm](images/Algorytm.png)"
   ]
  },
  {
   "cell_type": "code",
   "execution_count": 314,
   "metadata": {},
   "outputs": [],
   "source": [
    "from sklearn.datasets import make_blobs\n",
    "import matplotlib.pyplot as plt\n",
    "\n",
    "# Ilość centroidów:\n",
    "k=3;\n",
    "\n",
    "# Ilość cech:\n",
    "features=4;\n",
    "\n",
    "# Wymiary box'a dla wartości:\n",
    "box_x = -10.0;\n",
    "box_y = 10.0;\n",
    "\n",
    "# Wylosowanie próbek:\n",
    "#   x - wygenerowane próbki (wymiar: n_samples x n_features),\n",
    "#   y - etykiety przynależności do danej klasy wybranej próbki.\n",
    "x, y = make_blobs(n_samples=10, n_features=features, centers=k, center_box=(box_x, box_y), random_state=0);"
   ]
  },
  {
   "cell_type": "code",
   "execution_count": 315,
   "metadata": {},
   "outputs": [
    {
     "data": {
      "image/png": "[encoded data removed]",
      "text/plain": [
       "<Figure size 432x288 with 1 Axes>"
      ]
     },
     "metadata": {
      "needs_background": "light"
     },
     "output_type": "display_data"
    }
   ],
   "source": [
    "import numpy as np\n",
    "\n",
    "# Początek implementacji algorytmu K-Means\n",
    "\n",
    "# Wygenerowanie losowych centrów:\n",
    "C = np.random.uniform(low=box_x, high=box_y, size=(k, features));\n",
    "\n",
    "# Konfiguracja rozmiaru wykresu:\n",
    "#plt.figure(figsize=(18, 16), dpi=80);\n",
    "\n",
    "# Wyrysowanie próbek i centrów:\n",
    "plt.scatter(x[:, 0], x[:, 1], marker='o', s=100, c='b', edgecolor='k');\n",
    "plt.scatter(C.T[0], C.T[1], marker='x', s=200, c='m');"
   ]
  },
  {
   "cell_type": "code",
   "execution_count": 316,
   "metadata": {},
   "outputs": [
    {
     "data": {
      "image/png": "[encoded data removed]",
      "text/plain": [
       "<Figure size 432x288 with 1 Axes>"
      ]
     },
     "metadata": {
      "needs_background": "light"
     },
     "output_type": "display_data"
    }
   ],
   "source": [
    "from scipy.spatial import distance\n",
    "\n",
    "# Przypisanie - wersja długa:\n",
    "s2id = np.zeros(len(x));\n",
    "for i, s_i in enumerate(x):\n",
    "    point = [x[i,:]];\n",
    "    dists = []\n",
    "    for c_i in C:\n",
    "        dists.append(distance.euclidean(point, c_i));\n",
    "    s2id[i] = np.argmin(dists);\n",
    "\n",
    "# Konfiguracja rozmiaru wykresu:\n",
    "#plt.figure(figsize=(18, 16), dpi=80);\n",
    "\n",
    "# Wyrysowanie próbek i centrów:\n",
    "plt.scatter(x[:, 0], x[:, 1], marker='o', s=100, c = s2id, edgecolor='k');\n",
    "plt.scatter(C.T[0], C.T[1], s=100, marker='x', c='m');"
   ]
  },
  {
   "cell_type": "code",
   "execution_count": 317,
   "metadata": {},
   "outputs": [
    {
     "data": {
      "image/png": "[encoded data removed]",
      "text/plain": [
       "<Figure size 432x288 with 1 Axes>"
      ]
     },
     "metadata": {
      "needs_background": "light"
     },
     "output_type": "display_data"
    }
   ],
   "source": [
    "# Przypisanie - wersja krótka:\n",
    "dists = distance.cdist(x, C, metric='euclidean');\n",
    "s2id = np.argmin(dists, axis=1);\n",
    "\n",
    "# Konfiguracja rozmiaru wykresu:\n",
    "#plt.figure(figsize=(18, 16), dpi=80);\n",
    "\n",
    "# Wyrysowanie próbek i centrów:\n",
    "plt.scatter(x[:, 0], x[:, 1], marker='o', s=100, c = s2id, edgecolor='k');\n",
    "plt.scatter(C.T[0], C.T[1], s=100, marker='x', c='m');"
   ]
  },
  {
   "cell_type": "code",
   "execution_count": null,
   "metadata": {},
   "outputs": [],
   "source": []
  }
 ],
 "metadata": {
  "kernelspec": {
   "display_name": "Python 3",
   "language": "python",
   "name": "python3"
  },
  "language_info": {
   "codemirror_mode": {
    "name": "ipython",
    "version": 3
   },
   "file_extension": ".py",
   "mimetype": "text/x-python",
   "name": "python",
   "nbconvert_exporter": "python",
   "pygments_lexer": "ipython3",
   "version": "3.7.6"
  }
 },
 "nbformat": 4,
 "nbformat_minor": 2
}
